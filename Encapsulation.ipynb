{
  "cells": [
    {
      "cell_type": "markdown",
      "metadata": {
        "id": "view-in-github",
        "colab_type": "text"
      },
      "source": [
        "<a href=\"https://colab.research.google.com/github/Surajmk78/Learning-github/blob/main/Encapsulation.ipynb\" target=\"_parent\"><img src=\"https://colab.research.google.com/assets/colab-badge.svg\" alt=\"Open In Colab\"/></a>"
      ]
    },
    {
      "cell_type": "markdown",
      "source": [
        "**Encapsulation**"
      ],
      "metadata": {
        "id": "2MY4pur7AqSb"
      }
    },
    {
      "cell_type": "code",
      "source": [
        "# Pynative website : https://pynative.com/python-encapsulation/#h-protected-member"
      ],
      "metadata": {
        "id": "U8yyiLmuf-2X"
      },
      "execution_count": 72,
      "outputs": []
    },
    {
      "cell_type": "code",
      "source": [
        "# 1   PUBLIC MEMBER    \n",
        "\n",
        "class Employee:\n",
        "  def __init__(self,name,salary):\n",
        "    self.name = name\n",
        "    self.salary = salary\n",
        "  def show(self):\n",
        "    print(\"name : \",self.name,\"\\nSalary :  \",self.salary)\n",
        "emp = Employee(\"jessa\",10000)\n",
        "emp.salary #accessing public data members\n",
        "\n",
        "\n"
      ],
      "metadata": {
        "colab": {
          "base_uri": "https://localhost:8080/"
        },
        "id": "W1nujp00ApdZ",
        "outputId": "33eb5d65-cec4-4c9f-e5f3-2979b6df4602"
      },
      "execution_count": 13,
      "outputs": [
        {
          "output_type": "execute_result",
          "data": {
            "text/plain": [
              "10000"
            ]
          },
          "metadata": {},
          "execution_count": 13
        }
      ]
    },
    {
      "cell_type": "code",
      "source": [
        "# 2   PRIVATE MEMBER\n",
        "#Public method to access private members\n",
        "\n",
        "class Employee:\n",
        "  def __init__(self,name,age):\n",
        "    self.name = name\n",
        "    self.__age = age\n",
        "  #Pulic method\n",
        "  def show(self):\n",
        "    print(f\"Name : {self.name} , Age : {self.__age}\")   \n",
        "\n",
        "emp = Employee(\"Jessa\",10000)\n",
        "emp.show()          # accessing public method"
      ],
      "metadata": {
        "colab": {
          "base_uri": "https://localhost:8080/"
        },
        "id": "Inl7jt0QFJkT",
        "outputId": "f52f1a76-5324-4854-8ad9-fc227f82cec1"
      },
      "execution_count": 28,
      "outputs": [
        {
          "output_type": "stream",
          "name": "stdout",
          "text": [
            "Name : Jessa , Age : 10000\n"
          ]
        }
      ]
    },
    {
      "cell_type": "code",
      "source": [
        "#(Name Mangling to access private members)\n",
        "\n",
        "class Employee:\n",
        "  def __init__(self,name,salary):\n",
        "    self.name = name \n",
        "    self.__salary = salary\n",
        "emp = Employee(\"jessa\",10000)\n",
        "emp._Employee__salary         #[object_classname__dataMember]"
      ],
      "metadata": {
        "id": "Zg1lXSaKFJdu"
      },
      "execution_count": 26,
      "outputs": []
    },
    {
      "cell_type": "code",
      "source": [],
      "metadata": {
        "id": "ftVellHJFJYO"
      },
      "execution_count": null,
      "outputs": []
    },
    {
      "cell_type": "code",
      "source": [
        "# 3    PROTECTED MEMBERS\n",
        "\n",
        "class Employee:\n",
        "  def __init__(self,name,salary):\n",
        "    self.name = name\n",
        "    self._salary =salary\n",
        "e1 = Employee(\"jessa\",10000)\n",
        "e1._salary"
      ],
      "metadata": {
        "id": "zge2uCN-J8n4"
      },
      "execution_count": 29,
      "outputs": []
    },
    {
      "cell_type": "code",
      "source": [
        "# base class\n",
        "class Company:\n",
        "    def __init__(self,project):\n",
        "        # Protected member\n",
        "        self._project = project\n",
        "\n",
        "# child class\n",
        "class Employee(Company):\n",
        "    def __init__(self,project,name):\n",
        "        super().__init__(project)\n",
        "        self.name = name\n",
        "\n",
        "    def show(self):\n",
        "        print(\"Employee name : \", self.name)\n",
        "        # Accessing protected member in child class\n",
        "        print(\"Working on project : \", self._project)\n",
        "\n",
        "c = Employee(\"NLP\",\"Jessa\")\n",
        "c.show()"
      ],
      "metadata": {
        "colab": {
          "base_uri": "https://localhost:8080/"
        },
        "id": "PKvIwFPMK2xc",
        "outputId": "fae3f0ae-a2a8-4989-f7d7-0678d74d540c"
      },
      "execution_count": 35,
      "outputs": [
        {
          "output_type": "stream",
          "name": "stdout",
          "text": [
            "Employee name : Jessa\n",
            "Working on project : NLP\n"
          ]
        }
      ]
    },
    {
      "cell_type": "code",
      "source": [
        "# Direct access protected data member\n",
        "print('Project:', c._project)"
      ],
      "metadata": {
        "colab": {
          "base_uri": "https://localhost:8080/"
        },
        "id": "iys_eFqyL_Lw",
        "outputId": "6d55a7e6-0410-450c-fbf9-274d2017970e"
      },
      "execution_count": 32,
      "outputs": [
        {
          "output_type": "stream",
          "name": "stdout",
          "text": [
            "Project: NLP\n"
          ]
        }
      ]
    },
    {
      "cell_type": "code",
      "source": [
        "class Employee:\n",
        "  def __init__(self,name,salary):\n",
        "    self.name = name\n",
        "    self.salary = salary\n",
        "  def show(self):\n",
        "    print(\"name : \",self.name,\"\\nSalary :  \",self.salary)"
      ],
      "metadata": {
        "id": "3fMhCCkmMPAQ"
      },
      "execution_count": null,
      "outputs": []
    },
    {
      "cell_type": "code",
      "source": [],
      "metadata": {
        "id": "yor5zkOTIKs-"
      },
      "execution_count": null,
      "outputs": []
    },
    {
      "cell_type": "code",
      "source": [
        "#   Getters and Setters in Python\n",
        "\n",
        "class Students:\n",
        "  def __init__(self,name,age):\n",
        "    #private member\n",
        "    self.name = name\n",
        "    self.__age = age\n",
        "\n",
        "  #getter method\n",
        "  def get_age(self):\n",
        "    return self.__age\n",
        "\n",
        "  #setter method\n",
        "  def set_age(self,age):\n",
        "    self.__age = age\n",
        "\n",
        "stud = Students(\"disha\",21)\n",
        "\n",
        "#retrieving age using getter\n",
        "print(\"Name: \",stud.name,stud.get_age())\n",
        "\n",
        "#changing age using setter\n",
        "stud.set_age(16)\n",
        "\n",
        "#retrieving age using getter\n",
        "print(\"Name: \",stud.name,stud.get_age())"
      ],
      "metadata": {
        "colab": {
          "base_uri": "https://localhost:8080/"
        },
        "id": "w7WGJk-GMClg",
        "outputId": "fc5175ff-3e5c-459e-990b-e400081ead97"
      },
      "execution_count": 47,
      "outputs": [
        {
          "output_type": "stream",
          "name": "stdout",
          "text": [
            "Name:  disha 21\n",
            "Name:  disha 16\n"
          ]
        }
      ]
    },
    {
      "cell_type": "markdown",
      "source": [
        "To implement proper encapsulation in Python, we need to use setters and getters. The primary purpose of using getters and setters in object-oriented programs is to ensure data encapsulation. Use the getter method to access data members and the setter methods to modify the data members.\n",
        "\n",
        "In Python, private variables are not hidden fields like in other programming languages. The getters and setters methods are often used when:\n",
        "\n",
        "When we want to avoid direct access to private variables\n",
        "To add validation logic for setting a value"
      ],
      "metadata": {
        "id": "ZBma1H8GhMT-"
      }
    },
    {
      "cell_type": "code",
      "source": [],
      "metadata": {
        "id": "Iiw_pHpNMO49"
      },
      "execution_count": null,
      "outputs": []
    },
    {
      "cell_type": "code",
      "source": [
        "class Student:\n",
        "  def __init__(self,name,age):\n",
        "    self.name = name\n",
        "    self.__age = age\n",
        "\n",
        "  def set_age(self):\n",
        "    return self.__age\n",
        "\n",
        "  def get_age(self,age):\n",
        "    self.__age = age\n",
        "\n",
        "stud = Student(\"jessa\",10)\n",
        "\n",
        "print(\"Nmae : \",stud.name,stud.set_age())\n",
        "\n",
        "stud.get_age(12)\n",
        "\n",
        "print(\"Name : \",stud.name,stud.set_age())"
      ],
      "metadata": {
        "id": "roCk78F1YD2M"
      },
      "execution_count": null,
      "outputs": []
    },
    {
      "cell_type": "code",
      "source": [
        "class Employee:\n",
        "  def __init__(self,name,salary):\n",
        "    self.name = name\n",
        "    self.__salary = salary\n",
        "\n",
        "  def get_salary(self):\n",
        "    return self.__salary\n",
        "  \n",
        "  def set_salary(self,salary):\n",
        "    self.__salary = salary\n",
        "\n",
        "e1 = Employee(\"john\",10000)\n",
        "\n",
        "print(\"Name:  \",e1.name,e1.get_salary())"
      ],
      "metadata": {
        "colab": {
          "base_uri": "https://localhost:8080/"
        },
        "id": "4dNRQmwRZRI5",
        "outputId": "6fe5e5e5-1f25-4b43-e4f9-a6964e746bf4"
      },
      "execution_count": 71,
      "outputs": [
        {
          "output_type": "stream",
          "name": "stdout",
          "text": [
            "Name:   john 10000\n"
          ]
        }
      ]
    },
    {
      "cell_type": "code",
      "source": [],
      "metadata": {
        "id": "9oz5IUTZbpx9"
      },
      "execution_count": null,
      "outputs": []
    }
  ],
  "metadata": {
    "colab": {
      "name": "Welcome To Colaboratory",
      "provenance": [],
      "include_colab_link": true
    },
    "kernelspec": {
      "display_name": "Python 3",
      "name": "python3"
    }
  },
  "nbformat": 4,
  "nbformat_minor": 0
}