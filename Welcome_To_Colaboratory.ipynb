{
  "cells": [
    {
      "cell_type": "markdown",
      "metadata": {
        "id": "view-in-github",
        "colab_type": "text"
      },
      "source": [
        "<a href=\"https://colab.research.google.com/github/Surajmk78/Learning-github/blob/main/Welcome_To_Colaboratory.ipynb\" target=\"_parent\"><img src=\"https://colab.research.google.com/assets/colab-badge.svg\" alt=\"Open In Colab\"/></a>"
      ]
    },
    {
      "cell_type": "code",
      "source": [],
      "metadata": {
        "id": "c4iK4wTZ8IxW"
      },
      "execution_count": null,
      "outputs": []
    },
    {
      "cell_type": "code",
      "source": [
        " def pattern3():\n",
        "  for i in range(1,6):\n",
        "    for j in range(5,i,-1):\n",
        "      print(\" \",end=\"\")\n",
        "    for j in range(i):\n",
        "      print(\"*\",end=\" \")\n",
        "    print()  \n",
        " def pattern2():\n",
        "  for i in range(1,6):\n",
        "    for j in range(1,6):\n",
        "      if i==1 or i==5 or j==1 or j==5:\n",
        "        print(\"*\",end=\" \")\n",
        "      else:\n",
        "        print(\" \",end=\" \")\n",
        "    print()       "
      ],
      "metadata": {
        "id": "NNDAmb4P9DPn"
      },
      "execution_count": 38,
      "outputs": []
    },
    {
      "cell_type": "code",
      "source": [
        "pattern3()"
      ],
      "metadata": {
        "id": "v9IlVu8T-krw",
        "outputId": "8588cd63-6280-41d6-f4da-4bc04b303cf9",
        "colab": {
          "base_uri": "https://localhost:8080/"
        }
      },
      "execution_count": 43,
      "outputs": [
        {
          "output_type": "stream",
          "name": "stdout",
          "text": [
            "    * \n",
            "   * * \n",
            "  * * * \n",
            " * * * * \n",
            "* * * * * \n"
          ]
        }
      ]
    },
    {
      "cell_type": "code",
      "source": [
        "for i in range(1,5):\n",
        "  print(\"*\",end=\" \")\n",
        "for i in range(1,6):\n",
        "  print(\"*\")\n",
        "for i in range(1,6):\n",
        "  print(\"*\",end=\" \")\n",
        "print()  \n",
        "for i in range(1,5):\n",
        "  print(\"         *\")\n",
        "for i in range(1,6):\n",
        "  print(\"*\",end=\" \")  "
      ],
      "metadata": {
        "id": "W_-i7V6U-K8V",
        "outputId": "97cf02a5-8e3d-4a45-b851-ef9c0636d7e5",
        "colab": {
          "base_uri": "https://localhost:8080/"
        }
      },
      "execution_count": 68,
      "outputs": [
        {
          "output_type": "stream",
          "name": "stdout",
          "text": [
            "* * * * *\n",
            "*\n",
            "*\n",
            "*\n",
            "*\n",
            "* * * * * \n",
            "         *\n",
            "         *\n",
            "         *\n",
            "         *\n",
            "* * * * * "
          ]
        }
      ]
    },
    {
      "cell_type": "code",
      "source": [
        "for i in range(1,11):\n",
        "  print(\"*             *\")\n",
        "for i in range(1,9):\n",
        "  print(\"*\",end=\" \")  \n"
      ],
      "metadata": {
        "id": "L0KpUm-JAELS",
        "outputId": "1c25b81c-177e-418a-eff7-f64360409a9d",
        "colab": {
          "base_uri": "https://localhost:8080/"
        }
      },
      "execution_count": 79,
      "outputs": [
        {
          "output_type": "stream",
          "name": "stdout",
          "text": [
            "*             *\n",
            "*             *\n",
            "*             *\n",
            "*             *\n",
            "*             *\n",
            "*             *\n",
            "*             *\n",
            "*             *\n",
            "*             *\n",
            "*             *\n",
            "* * * * * * * * "
          ]
        }
      ]
    },
    {
      "cell_type": "code",
      "source": [
        "for i in range(1,6):\n",
        "  for j in range(1,9):\n",
        "    if i==1 or i==5 or j ==1 or j==8:\n",
        "      print(\"*\",end=\" \")\n",
        "    else:\n",
        "      print(\" \",end=\" \")  \n",
        "  print() \n",
        "for k in range(i):\n",
        "  \n",
        "  print(\"*\")  "
      ],
      "metadata": {
        "id": "6fdy4jxmE0m5",
        "outputId": "38367229-9757-4525-889d-709e07fc4920",
        "colab": {
          "base_uri": "https://localhost:8080/"
        }
      },
      "execution_count": 92,
      "outputs": [
        {
          "output_type": "stream",
          "name": "stdout",
          "text": [
            "* * * * * * * * \n",
            "*             * \n",
            "*             * \n",
            "*             * \n",
            "* * * * * * * * \n",
            "*\n",
            "*\n",
            "*\n",
            "*\n",
            "*\n"
          ]
        }
      ]
    },
    {
      "cell_type": "code",
      "source": [
        "for i in range(1,6):\n",
        "  print(\"*\")"
      ],
      "metadata": {
        "id": "OjIbxRbwHdID",
        "outputId": "e84c8216-ae28-4531-84a0-76cfab6ffb2c",
        "colab": {
          "base_uri": "https://localhost:8080/"
        }
      },
      "execution_count": 90,
      "outputs": [
        {
          "output_type": "stream",
          "name": "stdout",
          "text": [
            "*\n",
            "*\n",
            "*\n",
            "*\n",
            "*\n"
          ]
        }
      ]
    },
    {
      "cell_type": "code",
      "source": [
        "for i in range(1):\n",
        "  for j in range()"
      ],
      "metadata": {
        "id": "0yh7w84OIW7y"
      },
      "execution_count": null,
      "outputs": []
    }
  ],
  "metadata": {
    "colab": {
      "name": "Welcome To Colaboratory",
      "toc_visible": true,
      "provenance": [],
      "include_colab_link": true
    },
    "kernelspec": {
      "display_name": "Python 3",
      "name": "python3"
    }
  },
  "nbformat": 4,
  "nbformat_minor": 0
}