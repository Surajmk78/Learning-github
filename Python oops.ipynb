{
  "cells": [
    {
      "cell_type": "markdown",
      "metadata": {
        "id": "view-in-github",
        "colab_type": "text"
      },
      "source": [
        "<a href=\"https://colab.research.google.com/github/Surajmk78/Learning-github/blob/main/Python%20oops.ipynb\" target=\"_parent\"><img src=\"https://colab.research.google.com/assets/colab-badge.svg\" alt=\"Open In Colab\"/></a>"
      ]
    },
    {
      "cell_type": "code",
      "source": [
        "class Fruit:\n",
        "    def __init__(self, name, color):\n",
        "        self.name = name\n",
        "        self.color = color\n",
        "    def show(self):\n",
        "        print(f\"Fruit is {self.name} and Color is {self.color}\")\n",
        "obj = Fruit(\"Apple\", \"red\")\n",
        "obj.show()"
      ],
      "metadata": {
        "id": "w1q9sytDTqVv",
        "outputId": "d3108248-f2e6-4c05-b334-b967d61cc360",
        "colab": {
          "base_uri": "https://localhost:8080/"
        }
      },
      "execution_count": 14,
      "outputs": [
        {
          "output_type": "stream",
          "name": "stdout",
          "text": [
            "Fruit is Apple and Color is red\n"
          ]
        }
      ]
    },
    {
      "cell_type": "code",
      "source": [
        "class Persons:\n",
        "  def __init__(self,name,gender,profession):\n",
        "    self.name=name\n",
        "    self.gender=gender\n",
        "    self.profession=profession\n",
        "  def details(self):\n",
        "    print(f\"{self.name} is a {self.gender} and work as a {self.profession}\")\n",
        "p1 = Persons(\"diksha \",\"female\",\"doctor\")\n",
        "p2 = Persons(\"dinesh\",\"male\",\"engineer\")\n",
        "p2.profession=\"developer\"\n",
        "p1.details()\n",
        "p2.details()"
      ],
      "metadata": {
        "id": "S9irrz5IXLAR",
        "outputId": "6f31f14f-2932-42ff-95cc-5ef6a0385240",
        "colab": {
          "base_uri": "https://localhost:8080/"
        }
      },
      "execution_count": 22,
      "outputs": [
        {
          "output_type": "stream",
          "name": "stdout",
          "text": [
            "diksha  is a female and work as a doctor\n",
            "dinesh is a male and work as a developer\n"
          ]
        }
      ]
    },
    {
      "cell_type": "code",
      "source": [
        "class Employee:\n",
        "  department = \"IT\"\n",
        "  def show(self):\n",
        "    print(\"department is\",self.department)\n",
        "emp=Employee()\n",
        "emp.show()"
      ],
      "metadata": {
        "id": "NZV8ghJhZbBk",
        "outputId": "ca27695c-5959-41a0-ffb0-7b5f1bf5c62d",
        "colab": {
          "base_uri": "https://localhost:8080/"
        }
      },
      "execution_count": 23,
      "outputs": [
        {
          "output_type": "stream",
          "name": "stdout",
          "text": [
            "department is IT\n"
          ]
        }
      ]
    },
    {
      "cell_type": "code",
      "source": [
        "class Student:\n",
        "  def __init__(self,name):\n",
        "    print(\"inside constructor\")\n",
        "    self.name = name\n",
        "    print(\"All variable initialized\")\n",
        "  def show(self):\n",
        "    print(f\"     Hello {self.name} is here\")\n",
        "s1 = Student(\"sipesh\")\n",
        "s1.show()"
      ],
      "metadata": {
        "id": "fu7lJg_NaxEg",
        "outputId": "3a4c7d10-8a5a-4274-bc08-e51fe01e998b",
        "colab": {
          "base_uri": "https://localhost:8080/"
        }
      },
      "execution_count": 26,
      "outputs": [
        {
          "output_type": "stream",
          "name": "stdout",
          "text": [
            "inside constructor\n",
            "All variable initialized\n",
            "     Hello sipesh is here\n"
          ]
        }
      ]
    },
    {
      "cell_type": "code",
      "source": [],
      "metadata": {
        "id": "FVczfzPAbeLz"
      },
      "execution_count": null,
      "outputs": []
    },
    {
      "cell_type": "markdown",
      "source": [
        "**Types of Constructors**\n",
        "In Python, we have the following three types of constructors.\n",
        "\n",
        "1)Default Constructor\n",
        "2)Non-parametrized constructor\n",
        "3)Parameterized constructor"
      ],
      "metadata": {
        "id": "uIQ7gcayenuq"
      }
    },
    {
      "cell_type": "code",
      "source": [
        "#1)Default Constructor\n",
        "\n",
        "class Employee:\n",
        "\n",
        "    def display(self):\n",
        "        print('Inside Display')\n",
        "\n",
        "emp = Employee()\n",
        "emp.display()"
      ],
      "metadata": {
        "id": "wtNP0yVDezC-"
      },
      "execution_count": null,
      "outputs": []
    },
    {
      "cell_type": "code",
      "source": [
        "#2)Non-parametrized constructor\n",
        "\n",
        "class Company:\n",
        "\n",
        "    # no-argument constructor\n",
        "    def __init__(self):\n",
        "        self.name = \"PYnative\"\n",
        "        self.address = \"ABC Street\"\n",
        "\n",
        "    # a method for printing data members\n",
        "    def show(self):\n",
        "        print('Name:', self.name, 'Address:', self.address)\n",
        "\n",
        "# creating object of the class\n",
        "cmp = Company()\n",
        "\n",
        "# calling the instance method using the object\n",
        "cmp.show()"
      ],
      "metadata": {
        "id": "dVeiv39ye_qI",
        "outputId": "561c3276-97f0-4f89-c9d0-e714f0302309",
        "colab": {
          "base_uri": "https://localhost:8080/"
        }
      },
      "execution_count": 27,
      "outputs": [
        {
          "output_type": "stream",
          "name": "stdout",
          "text": [
            "Name: PYnative Address: ABC Street\n"
          ]
        }
      ]
    },
    {
      "cell_type": "code",
      "source": [
        "#3)Parameterized constructor\n",
        "\n",
        "class Employee:\n",
        "    # parameterized constructor\n",
        "    def __init__(self, name, age, salary):\n",
        "        self.name = name\n",
        "        self.age = age\n",
        "        self.salary = salary\n",
        "\n",
        "    # display object\n",
        "    def show(self):\n",
        "        print(self.name, self.age, self.salary)\n",
        "\n",
        "# creating object of the Employee class\n",
        "emma = Employee('Emma', 23, 7500)\n",
        "emma.show()\n",
        "\n",
        "kelly = Employee('Kelly', 25, 8500)\n",
        "kelly.show()"
      ],
      "metadata": {
        "id": "Cn2Npg9ae_eL"
      },
      "execution_count": null,
      "outputs": []
    },
    {
      "cell_type": "code",
      "source": [],
      "metadata": {
        "id": "XfJAoFezfcd-"
      },
      "execution_count": 28,
      "outputs": []
    },
    {
      "cell_type": "markdown",
      "source": [
        " **Constructor Overloading**"
      ],
      "metadata": {
        "id": "gokbfgvXh_JQ"
      }
    },
    {
      "cell_type": "code",
      "source": [
        "class Student:\n",
        "    # one argument constructor\n",
        "    def __init__(self, name):\n",
        "        print(\"One arguments constructor\")\n",
        "        self.name = name\n",
        "\n",
        "    # two argument constructor\n",
        "    def __init__(self, name, age):\n",
        "        print(\"Two arguments constructor\")\n",
        "        self.name = name\n",
        "        self.age = age\n",
        "\n",
        "# creating first object\n",
        "emma = Student('Emma')\n",
        "\n",
        "# creating Second object\n",
        "kelly = Student('Kelly', 13)"
      ],
      "metadata": {
        "id": "KdX3XpG6febl"
      },
      "execution_count": null,
      "outputs": []
    },
    {
      "cell_type": "markdown",
      "source": [
        "**note on above example:**\n",
        "\n",
        "As you can see in the above example, we defined multiple constructors with different arguments.\n",
        "At the time of object creation, the interpreter executed the second constructor because Python always considers the last constructor.\n",
        "Internally, the object of the class will always call the last constructor, even if the class has multiple constructors.\n",
        "In the example when we called a constructor only with one argument, we got a type error."
      ],
      "metadata": {
        "id": "Aesqe2ngiKH8"
      }
    },
    {
      "cell_type": "code",
      "source": [],
      "metadata": {
        "id": "zhGann8GmUhd"
      },
      "execution_count": null,
      "outputs": []
    },
    {
      "cell_type": "code",
      "source": [
        "class Vehicle:\n",
        "  def __init__(self,engine):\n",
        "    print(\"First constructor\")\n",
        "    self.engine = engine\n",
        "class Car(Vehicle):\n",
        "  def __init__(self,engine,speed):\n",
        "    super().__init__(engine)\n",
        "    print(\"Second constructor\")\n",
        "    self.speed = speed\n",
        "class Electric_car(Car):\n",
        "  def __init__(self,engine,speed,km_hr):\n",
        "    super().__init__(engine,speed)\n",
        "    print(\"Third constructor\")\n",
        "    self.km_hr = km_hr\n",
        "  def details(self):\n",
        "    print(f\"A car has {self.engine} goes at hig speed {self.speed} and having average {self.km_hr}\")\n",
        "e1 = Electric_car(\"1500cc\",120,30)\n",
        "e1.details()"
      ],
      "metadata": {
        "id": "NJTGvOn2jUhb"
      },
      "execution_count": null,
      "outputs": []
    },
    {
      "cell_type": "code",
      "source": [],
      "metadata": {
        "id": "S5OLaqTJl0s6"
      },
      "execution_count": null,
      "outputs": []
    }
  ],
  "metadata": {
    "colab": {
      "name": "Welcome To Colaboratory",
      "provenance": [],
      "include_colab_link": true
    },
    "kernelspec": {
      "display_name": "Python 3",
      "name": "python3"
    }
  },
  "nbformat": 4,
  "nbformat_minor": 0
}