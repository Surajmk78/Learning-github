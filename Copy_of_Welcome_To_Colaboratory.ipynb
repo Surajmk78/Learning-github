{
  "cells": [
    {
      "cell_type": "markdown",
      "metadata": {
        "id": "view-in-github",
        "colab_type": "text"
      },
      "source": [
        "<a href=\"https://colab.research.google.com/github/Surajmk78/Learning-github/blob/main/Copy_of_Welcome_To_Colaboratory.ipynb\" target=\"_parent\"><img src=\"https://colab.research.google.com/assets/colab-badge.svg\" alt=\"Open In Colab\"/></a>"
      ]
    },
    {
      "cell_type": "code",
      "source": [
        "var =10\n",
        "for i in range(4,0,-1):\n",
        " for j in range(i):\n",
        "      print(var,end=\" \")\n",
        "      var-=1\n",
        " print()  "
      ],
      "metadata": {
        "id": "SbvYvjkHIUeW",
        "outputId": "9d6c562f-5fe0-47a0-fbe8-6a9a35ac48c4",
        "colab": {
          "base_uri": "https://localhost:8080/"
        }
      },
      "execution_count": null,
      "outputs": [
        {
          "output_type": "stream",
          "name": "stdout",
          "text": [
            "10 9 8 7 \n",
            "6 5 4 \n",
            "3 2 \n",
            "1 \n"
          ]
        }
      ]
    },
    {
      "cell_type": "code",
      "source": [
        "for i in range(4):\n",
        "  for j in range(i+1):\n",
        "    print(j,end=\" \")\n",
        "  print()  "
      ],
      "metadata": {
        "id": "h28KxAFAJdku",
        "outputId": "035c7ff1-6196-450a-f576-c240a3b04f76",
        "colab": {
          "base_uri": "https://localhost:8080/"
        }
      },
      "execution_count": null,
      "outputs": [
        {
          "output_type": "stream",
          "name": "stdout",
          "text": [
            "0 \n",
            "0 1 \n",
            "0 1 2 \n",
            "0 1 2 3 \n"
          ]
        }
      ]
    },
    {
      "cell_type": "code",
      "source": [
        "for i in range(5,0,-1):\n",
        "  for j in range(i+1):\n",
        "    print(j,end=\" \")\n",
        "  print()  "
      ],
      "metadata": {
        "id": "urTHgQKsK7Us",
        "outputId": "81cad02b-94f1-4844-b8cd-1d3ec9f31958",
        "colab": {
          "base_uri": "https://localhost:8080/"
        }
      },
      "execution_count": null,
      "outputs": [
        {
          "output_type": "stream",
          "name": "stdout",
          "text": [
            "0 1 2 3 4 5 \n",
            "0 1 2 3 4 \n",
            "0 1 2 3 \n",
            "0 1 2 \n",
            "0 1 \n"
          ]
        }
      ]
    },
    {
      "cell_type": "code",
      "source": [
        "for i in range(7,2,-1):\n",
        "  for j in range(1,i):\n",
        "    print(\"*\",end=\" \")\n",
        "  print()  "
      ],
      "metadata": {
        "id": "wu7saoo1L7S9",
        "outputId": "5035cdc6-acbe-460f-d4a7-c5e276da144a",
        "colab": {
          "base_uri": "https://localhost:8080/"
        }
      },
      "execution_count": null,
      "outputs": [
        {
          "output_type": "stream",
          "name": "stdout",
          "text": [
            "* * * * * * \n",
            "* * * * * \n",
            "* * * * \n",
            "* * * \n",
            "* * \n"
          ]
        }
      ]
    },
    {
      "cell_type": "code",
      "source": [
        "for i in range(1,6):\n",
        "  for j in range(i):\n",
        "    print(i,end=\" \")\n",
        "  print()  "
      ],
      "metadata": {
        "id": "mXH4wxz6MmAo",
        "outputId": "44c05fe1-0748-4ba5-e89e-946f211e5702",
        "colab": {
          "base_uri": "https://localhost:8080/"
        }
      },
      "execution_count": null,
      "outputs": [
        {
          "output_type": "stream",
          "name": "stdout",
          "text": [
            "1 \n",
            "2 2 \n",
            "3 3 3 \n",
            "4 4 4 4 \n",
            "5 5 5 5 5 \n"
          ]
        }
      ]
    },
    {
      "cell_type": "code",
      "source": [
        "for i in range(1,6):\n",
        "  for j in range(1,i+1):\n",
        "    print(j,end=\" \")\n",
        "  print()  "
      ],
      "metadata": {
        "id": "5aefbEllOO8W",
        "outputId": "a7c86aef-9b32-43d0-b3a3-240b3a9baa7e",
        "colab": {
          "base_uri": "https://localhost:8080/"
        }
      },
      "execution_count": null,
      "outputs": [
        {
          "output_type": "stream",
          "name": "stdout",
          "text": [
            "1 \n",
            "1 2 \n",
            "1 2 3 \n",
            "1 2 3 4 \n",
            "1 2 3 4 5 \n"
          ]
        }
      ]
    },
    {
      "cell_type": "code",
      "source": [
        "for i in range(1,6):\n",
        "  for j in range(6-i,0,-1):\n",
        "    print(i,end=\" \")\n",
        "  print()  "
      ],
      "metadata": {
        "id": "06SXLamwOdTB",
        "outputId": "6ca376e1-555d-4449-c530-925ea663ea4a",
        "colab": {
          "base_uri": "https://localhost:8080/"
        }
      },
      "execution_count": null,
      "outputs": [
        {
          "output_type": "stream",
          "name": "stdout",
          "text": [
            "1 1 1 1 1 \n",
            "2 2 2 2 \n",
            "3 3 3 \n",
            "4 4 \n",
            "5 \n"
          ]
        }
      ]
    },
    {
      "cell_type": "code",
      "source": [
        "for i in range(5,0,-1):\n",
        "  for j in range(i+1):\n",
        "    print(\"5\",end=\" \")\n",
        "  print()  "
      ],
      "metadata": {
        "id": "zY42kQoNO33A",
        "outputId": "5b96a6cc-2d37-4df9-993d-9cacd1de408f",
        "colab": {
          "base_uri": "https://localhost:8080/"
        }
      },
      "execution_count": null,
      "outputs": [
        {
          "output_type": "stream",
          "name": "stdout",
          "text": [
            "5 5 5 5 5 5 \n",
            "5 5 5 5 5 \n",
            "5 5 5 5 \n",
            "5 5 5 \n",
            "5 5 \n"
          ]
        }
      ]
    },
    {
      "cell_type": "code",
      "source": [
        "for i in range(5,0,-1):\n",
        "  for j in range(i+1):\n",
        "    print(j,end=\" \")\n",
        "  print()  "
      ],
      "metadata": {
        "id": "Fmk0utRnPv0H",
        "outputId": "db11227b-e31c-48ee-a3a7-67e9a54cf17c",
        "colab": {
          "base_uri": "https://localhost:8080/"
        }
      },
      "execution_count": null,
      "outputs": [
        {
          "output_type": "stream",
          "name": "stdout",
          "text": [
            "0 1 2 3 4 5 \n",
            "0 1 2 3 4 \n",
            "0 1 2 3 \n",
            "0 1 2 \n",
            "0 1 \n"
          ]
        }
      ]
    },
    {
      "cell_type": "code",
      "source": [
        "n=1\n",
        "for i in range(1,6):\n",
        "  for j in range(i):\n",
        "    print(n,end=\" \")\n",
        "  n+=2  \n",
        "  print()  "
      ],
      "metadata": {
        "id": "45ycdel_Qqhe",
        "outputId": "603f25e2-1823-4090-88c6-bec03b0bef77",
        "colab": {
          "base_uri": "https://localhost:8080/"
        }
      },
      "execution_count": null,
      "outputs": [
        {
          "output_type": "stream",
          "name": "stdout",
          "text": [
            "1 \n",
            "3 3 \n",
            "5 5 5 \n",
            "7 7 7 7 \n",
            "9 9 9 9 9 \n"
          ]
        }
      ]
    },
    {
      "cell_type": "code",
      "source": [
        "for i in range(5,0,-1):\n",
        "  for j in range(i):\n",
        "    print(i,end=\" \")\n",
        "  print()  "
      ],
      "metadata": {
        "id": "pAepe9UoREEA",
        "outputId": "2e142cbb-af2e-486d-af1d-2b96ea7a9b12",
        "colab": {
          "base_uri": "https://localhost:8080/"
        }
      },
      "execution_count": null,
      "outputs": [
        {
          "output_type": "stream",
          "name": "stdout",
          "text": [
            "5 5 5 5 5 \n",
            "4 4 4 4 \n",
            "3 3 3 \n",
            "2 2 \n",
            "1 \n"
          ]
        }
      ]
    },
    {
      "cell_type": "code",
      "source": [
        "\n",
        "for i in range(1,6):\n",
        "  for j in range(i,0,-1):\n",
        "    print(j,end=\" \")\n",
        "  print()  \n"
      ],
      "metadata": {
        "id": "HMhHaXtJTe2O",
        "outputId": "b619b8b1-8312-4e0e-8aee-7273b017c783",
        "colab": {
          "base_uri": "https://localhost:8080/"
        }
      },
      "execution_count": null,
      "outputs": [
        {
          "output_type": "stream",
          "name": "stdout",
          "text": [
            "1 \n",
            "2 1 \n",
            "3 2 1 \n",
            "4 3 2 1 \n",
            "5 4 3 2 1 \n"
          ]
        }
      ]
    },
    {
      "cell_type": "code",
      "source": [
        "for i in range(1,6):\n",
        "  for j in range(i,0,-1):\n",
        "    print(j,end=\" \")\n",
        "  print()  "
      ],
      "metadata": {
        "id": "Bl1UUQxIUJV6",
        "colab": {
          "base_uri": "https://localhost:8080/"
        },
        "outputId": "a326cabb-bc64-451e-daa1-58e9b298326c"
      },
      "execution_count": 1,
      "outputs": [
        {
          "output_type": "stream",
          "name": "stdout",
          "text": [
            "1 \n",
            "2 1 \n",
            "3 2 1 \n",
            "4 3 2 1 \n",
            "5 4 3 2 1 \n"
          ]
        }
      ]
    },
    {
      "cell_type": "code",
      "source": [
        "for i in range(5,0,-1):\n",
        "  for j in range(i,0,-1):\n",
        "    print(j,end=\" \")\n",
        "  print()  "
      ],
      "metadata": {
        "colab": {
          "base_uri": "https://localhost:8080/"
        },
        "id": "sp4ILv8-ZKIB",
        "outputId": "f45e9b15-3dd2-4de4-b674-09b1a1036596"
      },
      "execution_count": 3,
      "outputs": [
        {
          "output_type": "stream",
          "name": "stdout",
          "text": [
            "5 4 3 2 1 \n",
            "4 3 2 1 \n",
            "3 2 1 \n",
            "2 1 \n",
            "1 \n"
          ]
        }
      ]
    },
    {
      "cell_type": "code",
      "source": [
        "# n=-1\n",
        "# for i in range(1,5):\n",
        "#   for j in range(i,1,-1):\n",
        "#     n+=2\n",
        "#     print(n,end=\" \")\n",
        "    \n",
        "#   print()  \n",
        "\n",
        "#   o/p: \n",
        "# 1\n",
        "# 3 2\n",
        "# 6 5 4\n",
        "# 10 9 8 7"
      ],
      "metadata": {
        "id": "4U-QmJckZk9j"
      },
      "execution_count": null,
      "outputs": []
    },
    {
      "cell_type": "code",
      "source": [
        "for i in range(1,6):\n",
        "  for j in range(6-i,0,-1):\n",
        "    print(\" \",end=\" \")\n",
        "  for j in range(1,i+1):\n",
        "    print(j,end=\" \")\n",
        "  print()  "
      ],
      "metadata": {
        "colab": {
          "base_uri": "https://localhost:8080/"
        },
        "id": "ZLaG4YMmaOmg",
        "outputId": "d9566f1d-a8ab-4774-ce95-fec8943fab99"
      },
      "execution_count": 14,
      "outputs": [
        {
          "output_type": "stream",
          "name": "stdout",
          "text": [
            "          1 \n",
            "        1 2 \n",
            "      1 2 3 \n",
            "    1 2 3 4 \n",
            "  1 2 3 4 5 \n"
          ]
        }
      ]
    },
    {
      "cell_type": "code",
      "source": [
        "for i in range(1,6):\n",
        "  for j in range(1,6):\n",
        "    print(j,end=\" \")\n",
        "  print()  "
      ],
      "metadata": {
        "colab": {
          "base_uri": "https://localhost:8080/"
        },
        "id": "RNjDG0r-fMXf",
        "outputId": "c7c31da9-cedd-4d2a-9c5f-e9c5a70a0ec4"
      },
      "execution_count": 16,
      "outputs": [
        {
          "output_type": "stream",
          "name": "stdout",
          "text": [
            "1 2 3 4 5 \n",
            "1 2 3 4 5 \n",
            "1 2 3 4 5 \n",
            "1 2 3 4 5 \n",
            "1 2 3 4 5 \n"
          ]
        }
      ]
    },
    {
      "cell_type": "code",
      "source": [
        "for i in range(1,9):\n",
        "  for j in range(1,i+1):\n",
        "    print(i*j,end=\" \")\n",
        "  print()  \n"
      ],
      "metadata": {
        "colab": {
          "base_uri": "https://localhost:8080/"
        },
        "id": "ASpQ2Y8ehq71",
        "outputId": "d196092c-2f76-46c5-d09f-7123616a3956"
      },
      "execution_count": 17,
      "outputs": [
        {
          "output_type": "stream",
          "name": "stdout",
          "text": [
            "1 \n",
            "2 4 \n",
            "3 6 9 \n",
            "4 8 12 16 \n",
            "5 10 15 20 25 \n",
            "6 12 18 24 30 36 \n",
            "7 14 21 28 35 42 49 \n",
            "8 16 24 32 40 48 56 64 \n"
          ]
        }
      ]
    },
    {
      "cell_type": "code",
      "source": [
        "for i in range(5):\n",
        "  for j in range(i+1):\n",
        "    print(\"*\",end=\" \")\n",
        "  print()  "
      ],
      "metadata": {
        "colab": {
          "base_uri": "https://localhost:8080/"
        },
        "id": "Qob7znwzlMlP",
        "outputId": "cf4149b6-4421-42c7-c856-a4801bfb8e4a"
      },
      "execution_count": 19,
      "outputs": [
        {
          "output_type": "stream",
          "name": "stdout",
          "text": [
            "* \n",
            "* * \n",
            "* * * \n",
            "* * * * \n",
            "* * * * * \n"
          ]
        }
      ]
    },
    {
      "cell_type": "code",
      "source": [
        "for i in range(1,6):\n",
        " for j in range( 5-i,0,-1):\n",
        "   print(\" \",end=\" \") \n",
        " for j in range(i):\n",
        "   print(\"*\",end=\" \")\n",
        " print()  "
      ],
      "metadata": {
        "colab": {
          "base_uri": "https://localhost:8080/"
        },
        "id": "ZAdquriPlhve",
        "outputId": "22e624c2-9fc3-482c-ea2b-560508c4be9e"
      },
      "execution_count": 23,
      "outputs": [
        {
          "output_type": "stream",
          "name": "stdout",
          "text": [
            "        * \n",
            "      * * \n",
            "    * * * \n",
            "  * * * * \n",
            "* * * * * \n"
          ]
        }
      ]
    },
    {
      "cell_type": "code",
      "source": [
        "for i in range(5,0,-1):\n",
        "  for j in range(i):\n",
        "    print(\"*\",end=\" \")\n",
        "  print()  "
      ],
      "metadata": {
        "colab": {
          "base_uri": "https://localhost:8080/"
        },
        "id": "a8KdyS5Ul2Hh",
        "outputId": "3b3fbf37-1076-4124-e8b0-f899db383c21"
      },
      "execution_count": 25,
      "outputs": [
        {
          "output_type": "stream",
          "name": "stdout",
          "text": [
            "* * * * * \n",
            "* * * * \n",
            "* * * \n",
            "* * \n",
            "* \n"
          ]
        }
      ]
    },
    {
      "cell_type": "code",
      "source": [
        "for i in range(6,0,-1):\n",
        "  for j in range(7-i,0,-1):\n",
        "    print(\" \",end=\" \")\n",
        "  for j in range(i*2,1,-1):\n",
        "    print(\"*\",end=\" \")\n",
        "  print()  "
      ],
      "metadata": {
        "colab": {
          "base_uri": "https://localhost:8080/"
        },
        "id": "tnZoLwxsmwud",
        "outputId": "dd258b00-c611-477b-f374-a652b75c4bdc"
      },
      "execution_count": 37,
      "outputs": [
        {
          "output_type": "stream",
          "name": "stdout",
          "text": [
            "  * * * * * * * * * * * \n",
            "    * * * * * * * * * \n",
            "      * * * * * * * \n",
            "        * * * * * \n",
            "          * * * \n",
            "            * \n"
          ]
        }
      ]
    },
    {
      "cell_type": "code",
      "source": [
        "for i in range(5,0,-1):\n",
        "  for j in range(5-i,0,-1):\n",
        "    print(\" \",end=\" \")\n",
        "  for j in range(i):\n",
        "    print(\"*\",end=\" \")\n",
        "  print()  "
      ],
      "metadata": {
        "colab": {
          "base_uri": "https://localhost:8080/"
        },
        "id": "_6LqjDK1nVtJ",
        "outputId": "d4bf71f8-f691-4186-e4f6-b98e983e572d"
      },
      "execution_count": 39,
      "outputs": [
        {
          "output_type": "stream",
          "name": "stdout",
          "text": [
            "* * * * * \n",
            "  * * * * \n",
            "    * * * \n",
            "      * * \n",
            "        * \n"
          ]
        }
      ]
    },
    {
      "cell_type": "code",
      "source": [
        "for i in range(1,8):\n",
        "  for j in range(9-i,0,-1):\n",
        "    print(\" \",end=\" \")\n",
        "  for j in range(1,i*2):\n",
        "    print(\"*\",end=\" \")\n",
        "  print()  \n",
        "for i in range(7,0,-1):\n",
        "    for j in range(8-i,0,-1):\n",
        "      print(\" \",end=\" \")\n",
        "    for j in range(1,i*2):\n",
        "      print(\"*\",end=\" \")  \n",
        "    print()  "
      ],
      "metadata": {
        "colab": {
          "base_uri": "https://localhost:8080/"
        },
        "id": "fzyCQxk1pRiO",
        "outputId": "ebf492e0-2938-489c-ac4f-c63d4e55404d"
      },
      "execution_count": 48,
      "outputs": [
        {
          "output_type": "stream",
          "name": "stdout",
          "text": [
            "                * \n",
            "              * * * \n",
            "            * * * * * \n",
            "          * * * * * * * \n",
            "        * * * * * * * * * \n",
            "      * * * * * * * * * * * \n",
            "    * * * * * * * * * * * * * \n",
            "  * * * * * * * * * * * * * \n",
            "    * * * * * * * * * * * \n",
            "      * * * * * * * * * \n",
            "        * * * * * * * \n",
            "          * * * * * \n",
            "            * * * \n",
            "              * \n"
          ]
        }
      ]
    },
    {
      "cell_type": "code",
      "source": [
        "for i in range(7):\n",
        "  for j in range(i+1):\n",
        "    print(\"*\",end=\" \")\n",
        "  print()  \n",
        "print()\n",
        "for i in range(7,0,-1):\n",
        "  for j in range(1,i+1):\n",
        "    print(\"*\",end=\" \")\n",
        "  print()  "
      ],
      "metadata": {
        "colab": {
          "base_uri": "https://localhost:8080/"
        },
        "id": "k3STug4zqJJm",
        "outputId": "c9c39c0d-c201-483d-cee3-3c0b0e0ee68c"
      },
      "execution_count": 53,
      "outputs": [
        {
          "output_type": "stream",
          "name": "stdout",
          "text": [
            "* \n",
            "* * \n",
            "* * * \n",
            "* * * * \n",
            "* * * * * \n",
            "* * * * * * \n",
            "* * * * * * * \n",
            "\n",
            "* * * * * * * \n",
            "* * * * * * \n",
            "* * * * * \n",
            "* * * * \n",
            "* * * \n",
            "* * \n",
            "* \n"
          ]
        }
      ]
    },
    {
      "cell_type": "code",
      "source": [
        "for i in range(7):\n",
        "  for j in range(i+1):\n",
        "    print(\"*\",end=\" \")\n",
        "  print()  \n",
        "print()\n",
        "for i in range(7,0,-1):\n",
        "  for j in range(1,i+1):\n",
        "    print(\"*\",end=\" \")\n",
        "  print()  "
      ],
      "metadata": {
        "colab": {
          "base_uri": "https://localhost:8080/"
        },
        "id": "gFgY6dgFtnnM",
        "outputId": "45bdde81-ba65-48f9-c408-1fd1e507eeec"
      },
      "execution_count": 54,
      "outputs": [
        {
          "output_type": "stream",
          "name": "stdout",
          "text": [
            "* \n",
            "* * \n",
            "* * * \n",
            "* * * * \n",
            "* * * * * \n",
            "* * * * * * \n",
            "* * * * * * * \n",
            "* * * * * * * \n",
            "* * * * * * \n",
            "* * * * * \n",
            "* * * * \n",
            "* * * \n",
            "* * \n",
            "* \n"
          ]
        }
      ]
    },
    {
      "cell_type": "code",
      "source": [
        "for i in range(5):\n",
        "  for j in range(i+1):\n",
        "    print(\"*\",end=\" \")\n",
        "  print()  \n",
        "for i in range(4,0,-1):\n",
        "  for j in range(i):\n",
        "    print(\"*\",end=\" \")\n",
        "  print()    "
      ],
      "metadata": {
        "colab": {
          "base_uri": "https://localhost:8080/"
        },
        "id": "F8bwHDbAuTEd",
        "outputId": "d055eb15-6e9e-4764-99bb-33bba1c2d9ef"
      },
      "execution_count": 57,
      "outputs": [
        {
          "output_type": "stream",
          "name": "stdout",
          "text": [
            "* \n",
            "* * \n",
            "* * * \n",
            "* * * * \n",
            "* * * * * \n",
            "* * * * \n",
            "* * * \n",
            "* * \n",
            "* \n"
          ]
        }
      ]
    },
    {
      "cell_type": "code",
      "source": [
        "for i in range(6,0,-1):\n",
        "  for j in range(6-i,0,-1):\n",
        "    print(\" \",end=\" \")\n",
        "  for j in range(1,i*2):\n",
        "    print(\"*\",end=\" \")\n",
        "  print()    \n",
        "for i in range(7):\n",
        "  for j in range(6-i,0,-1):\n",
        "    print(\" \",end=\" \")\n",
        "  for j in range(1,i*2):\n",
        "    print(\"*\",end=\" \")\n",
        "  print()  "
      ],
      "metadata": {
        "colab": {
          "base_uri": "https://localhost:8080/"
        },
        "id": "RDADWQHCuy-f",
        "outputId": "ff6c5891-a833-48c0-a34c-8d89ecb1b555"
      },
      "execution_count": 76,
      "outputs": [
        {
          "output_type": "stream",
          "name": "stdout",
          "text": [
            "* * * * * * * * * * * \n",
            "  * * * * * * * * * \n",
            "    * * * * * * * \n",
            "      * * * * * \n",
            "        * * * \n",
            "          * \n",
            "            \n",
            "          * \n",
            "        * * * \n",
            "      * * * * * \n",
            "    * * * * * * * \n",
            "  * * * * * * * * * \n",
            "* * * * * * * * * * * \n"
          ]
        }
      ]
    },
    {
      "cell_type": "code",
      "source": [
        "n=0\n",
        "for i in range(1,8):\n",
        "  for j in range(i):\n",
        "    n+=1\n",
        "    print(chr(64+n),end=\" \")\n",
        "  print()  "
      ],
      "metadata": {
        "colab": {
          "base_uri": "https://localhost:8080/"
        },
        "id": "K6BkbWJNyaxJ",
        "outputId": "adc9439a-d945-44ac-bfac-acaab48af026"
      },
      "execution_count": 91,
      "outputs": [
        {
          "output_type": "stream",
          "name": "stdout",
          "text": [
            "A \n",
            "B C \n",
            "D E F \n",
            "G H I J \n",
            "K L M N O \n",
            "P Q R S T U \n",
            "V W X Y Z [ \\ \n"
          ]
        }
      ]
    },
    {
      "cell_type": "code",
      "source": [
        "n=0\n",
        "for i in range(1,8):\n",
        "  for j in range(9-i,0,-2):\n",
        "    print(\" \",end=\" \")\n",
        "  for j in range(1,i+1):\n",
        "    n=n+1\n",
        "    print(chr(64+n),end=\" \")\n",
        "  print()  "
      ],
      "metadata": {
        "id": "aJg0g5eX8EqM",
        "outputId": "59341374-bb4d-498c-fc55-3dff41fb1264",
        "colab": {
          "base_uri": "https://localhost:8080/"
        }
      },
      "execution_count": 106,
      "outputs": [
        {
          "output_type": "stream",
          "name": "stdout",
          "text": [
            "        A \n",
            "        B C \n",
            "      D E F \n",
            "      G H I J \n",
            "    K L M N O \n",
            "    P Q R S T U \n",
            "  V W X Y Z [ \\ \n"
          ]
        }
      ]
    },
    {
      "cell_type": "code",
      "source": [
        "x=\"suraj\"\n",
        "xx=\"\"\n",
        "for i in x:\n",
        "  xx+=i\n",
        "  print(xx)"
      ],
      "metadata": {
        "colab": {
          "base_uri": "https://localhost:8080/"
        },
        "id": "lC-cWTZVybg3",
        "outputId": "2edc71f8-c927-462e-9fdf-e738448d51cf"
      },
      "execution_count": 94,
      "outputs": [
        {
          "output_type": "stream",
          "name": "stdout",
          "text": [
            "s\n",
            "su\n",
            "sur\n",
            "sura\n",
            "suraj\n"
          ]
        }
      ]
    },
    {
      "cell_type": "code",
      "source": [
        "# Same character pattern\n",
        "character = 'V'\n",
        "# convert char to ASCII\n",
        "char_ascii_no = ord(character)\n",
        "for i in range(0, 5):\n",
        "    for j in range(0, i + 1):\n",
        "        # Convert the ASCII value to the character\n",
        "        user_char = chr(char_ascii_no)\n",
        "        print(user_char, end=' ')\n",
        "    print()"
      ],
      "metadata": {
        "id": "1AF4NTt0_OWg",
        "outputId": "448729fc-02ed-491c-d814-eb9b142c785b",
        "colab": {
          "base_uri": "https://localhost:8080/"
        }
      },
      "execution_count": 107,
      "outputs": [
        {
          "output_type": "stream",
          "name": "stdout",
          "text": [
            "V \n",
            "V V \n",
            "V V V \n",
            "V V V V \n",
            "V V V V V \n"
          ]
        }
      ]
    },
    {
      "cell_type": "code",
      "source": [
        "for i in range(1,11):\n",
        " for j in range(1,i+1):\n",
        "  print(i*j,end=\" \")\n",
        " print()"
      ],
      "metadata": {
        "id": "7q4duzFE_Q2H",
        "outputId": "3b20e271-4292-452e-80a8-d77d01b79800",
        "colab": {
          "base_uri": "https://localhost:8080/"
        }
      },
      "execution_count": 123,
      "outputs": [
        {
          "output_type": "stream",
          "name": "stdout",
          "text": [
            "1 \n",
            "2 4 \n",
            "3 6 9 \n",
            "4 8 12 16 \n",
            "5 10 15 20 25 \n",
            "6 12 18 24 30 36 \n",
            "7 14 21 28 35 42 49 \n",
            "8 16 24 32 40 48 56 64 \n",
            "9 18 27 36 45 54 63 72 81 \n",
            "10 20 30 40 50 60 70 80 90 100 \n"
          ]
        }
      ]
    },
    {
      "cell_type": "code",
      "source": [
        "for i in range(1,9):\n",
        "  for j in range(i):"
      ],
      "metadata": {
        "id": "_84Yz3xg_s-0"
      },
      "execution_count": null,
      "outputs": []
    }
  ],
  "metadata": {
    "colab": {
      "provenance": [],
      "include_colab_link": true
    },
    "kernelspec": {
      "display_name": "Python 3",
      "name": "python3"
    }
  },
  "nbformat": 4,
  "nbformat_minor": 0
}